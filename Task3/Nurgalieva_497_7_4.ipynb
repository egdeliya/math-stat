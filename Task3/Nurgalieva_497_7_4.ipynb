{
 "cells": [
  {
   "cell_type": "code",
   "execution_count": 1,
   "metadata": {
    "collapsed": true
   },
   "outputs": [],
   "source": [
    "import matplotlib.pyplot as plt\n",
    "import numpy as np\n",
    "import scipy.stats as sps\n",
    "%matplotlib inline"
   ]
  },
  {
   "cell_type": "code",
   "execution_count": 46,
   "metadata": {
    "collapsed": false
   },
   "outputs": [],
   "source": [
    "data = np.loadtxt('6_1.txt')"
   ]
  },
  {
   "cell_type": "markdown",
   "metadata": {},
   "source": [
    "### Выборка для $\\xi_i$ - это разность между (i + 1)-м и i-м моментом выхода серверов из строя, найдём её"
   ]
  },
  {
   "cell_type": "code",
   "execution_count": 54,
   "metadata": {
    "collapsed": false
   },
   "outputs": [],
   "source": [
    "data[0] = 0\n",
    "sample_xi = data[1:] -  data[:-1]"
   ]
  },
  {
   "cell_type": "markdown",
   "metadata": {},
   "source": [
    "### Сопряженное к экспоненциальному - это гамма распределение с параметрами $(\\alpha + n)$ и $(\\beta + \\Sigma x_i)$ матожидание случайной величины с таким распределением - это $\\frac{(\\alpha + n)}{(\\beta + \\Sigma x_i)}$\n",
    "### Найдем среднее значение $\\xi_i$"
   ]
  },
  {
   "cell_type": "code",
   "execution_count": 37,
   "metadata": {
    "collapsed": false
   },
   "outputs": [
    {
     "name": "stdout",
     "output_type": "stream",
     "text": [
      "Примерное значение лямбды:  0.507408159123\n"
     ]
    }
   ],
   "source": [
    "mean = sample_xi.mean()\n",
    "print(u'Примерное значение лямбды: ', 1./ mean)"
   ]
  },
  {
   "cell_type": "markdown",
   "metadata": {},
   "source": [
    "### Математическое ожидание экспоненциального распределения - это $\\frac{1}{\\lambda}$, значит, мы можем примерно оценить лямбду как $\\frac{1}{\\overline{X}}$, а потом выбрать альфу и бету так, чтобы байесовская оценка примерно была ей равна\n",
    "### Никаких апостериорных знаний нам не дано, так что можно вполне случайно выбрать параметры, но мы примерно понимаем как можно оценить, так что возьмём $\\alpha = 0$, $\\beta = 0.5$ "
   ]
  },
  {
   "cell_type": "code",
   "execution_count": 59,
   "metadata": {
    "collapsed": false
   },
   "outputs": [],
   "source": [
    "alpha = 1.\n",
    "beta = 2.\n",
    "\n",
    "bayesian_mark = [ (alpha + i)/(beta + np.sum(sample[: i])) for i in range(sample_xi.size)]\n",
    "bayesian_mark = np.array(bayesian_mark)"
   ]
  },
  {
   "cell_type": "markdown",
   "metadata": {},
   "source": [
    "### Выведем значение лямбды в зависимости от количества данных (т.е график $\\lambda(n)$)"
   ]
  },
  {
   "cell_type": "code",
   "execution_count": 60,
   "metadata": {
    "collapsed": false
   },
   "outputs": [
    {
     "name": "stdout",
     "output_type": "stream",
     "text": [
      "N \t lambda est\n",
      "0 \t 0.5\n",
      "1 \t 0.844951415294\n",
      "2 \t 0.684775165487\n",
      "3 \t 0.599071439269\n",
      "4 \t 0.543714658547\n",
      "5 \t 0.469814423303\n",
      "6 \t 0.408615959372\n",
      "7 \t 0.271076172404\n",
      "8 \t 0.208996121961\n",
      "9 \t 0.176538088093\n",
      "10 \t 0.151425464257\n",
      "11 \t 0.135148832652\n",
      "12 \t 0.121086800607\n",
      "13 \t 0.110782281165\n",
      "14 \t 0.101734229499\n",
      "15 \t 0.0947878529366\n",
      "16 \t 0.0891401125263\n",
      "17 \t 0.0841483254483\n",
      "18 \t 0.0794231372139\n",
      "19 \t 0.0742442859741\n",
      "20 \t 0.0700976694194\n",
      "21 \t 0.0660375093053\n",
      "22 \t 0.0626714950966\n",
      "23 \t 0.0595148055478\n",
      "24 \t 0.0563990344485\n",
      "25 \t 0.0537722249913\n",
      "26 \t 0.0512710472396\n",
      "27 \t 0.0491013574772\n",
      "28 \t 0.0471831650467\n",
      "29 \t 0.0452054361044\n",
      "30 \t 0.0432590533524\n"
     ]
    }
   ],
   "source": [
    "print('N', '\\t', 'lambda est')\n",
    "for i in range(bayesian_mark.size):\n",
    "    print(i, '\\t', bayesian_mark[i])"
   ]
  }
 ],
 "metadata": {
  "kernelspec": {
   "display_name": "Python 3",
   "language": "python",
   "name": "python3"
  },
  "language_info": {
   "codemirror_mode": {
    "name": "ipython",
    "version": 3
   },
   "file_extension": ".py",
   "mimetype": "text/x-python",
   "name": "python",
   "nbconvert_exporter": "python",
   "pygments_lexer": "ipython3",
   "version": "3.5.1"
  }
 },
 "nbformat": 4,
 "nbformat_minor": 0
}
