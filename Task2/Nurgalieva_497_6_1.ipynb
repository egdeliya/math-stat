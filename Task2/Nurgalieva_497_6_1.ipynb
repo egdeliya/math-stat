{
 "cells": [
  {
   "cell_type": "code",
   "execution_count": 26,
   "metadata": {
    "collapsed": true
   },
   "outputs": [],
   "source": [
    "import numpy as np"
   ]
  },
  {
   "cell_type": "markdown",
   "metadata": {},
   "source": [
    "### Получим формулу для $E(N_t|N_s)$ через $E(N_t - N_s|N_s)$. С одной стороны, \n",
    "### $E(N_t - N_s|N_s) = E(N_t| N_s) - E(N_s|N_s) = E(N_t| N_s) - N_s$. (по линейности)\n",
    "### С другой, так как $N_t - N_s$ и $N_s$ независимы по условию\n",
    "### $E(N_t - N_s|N_s) = E(N_t - N_s)$\n",
    "### Значит, \n",
    "### $E(N_t| N_s) = E(N_t - N_s) + N_s = \\lambda\\cdot(t - s) + N_s$. ($N_t - N_s \\sim Pois(\\lambda\\cdot(t - s))$)"
   ]
  },
  {
   "cell_type": "code",
   "execution_count": 27,
   "metadata": {
    "collapsed": false
   },
   "outputs": [
    {
     "name": "stdout",
     "output_type": "stream",
     "text": [
      "0 \t22.02\n",
      "1 \t21.653\n",
      "2 \t21.286\n",
      "3 \t23.919\n",
      "4 \t24.552\n",
      "5 \t25.185\n",
      "6 \t24.818\n",
      "7 \t24.451\n",
      "8 \t24.084\n",
      "9 \t23.717\n",
      "10 \t23.35\n",
      "11 \t22.983\n",
      "12 \t22.616\n",
      "13 \t23.249\n",
      "14 \t24.882\n",
      "15 \t24.515\n",
      "16 \t25.148\n",
      "17 \t25.781\n",
      "18 \t25.414\n",
      "19 \t26.047\n",
      "20 \t26.68\n",
      "21 \t26.313\n",
      "22 \t28.946\n",
      "23 \t28.579\n",
      "24 \t29.212\n",
      "25 \t28.845\n",
      "26 \t29.478\n",
      "27 \t29.111\n",
      "28 \t28.744\n",
      "29 \t28.377\n",
      "30 \t28.01\n",
      "31 \t29.643\n",
      "32 \t29.276\n",
      "33 \t28.909\n",
      "34 \t30.542\n",
      "35 \t30.175\n",
      "36 \t29.808\n",
      "37 \t30.441\n",
      "38 \t30.074\n",
      "39 \t29.707\n",
      "40 \t29.34\n",
      "41 \t30.973\n",
      "42 \t30.606\n",
      "43 \t30.239\n",
      "44 \t31.872\n",
      "45 \t32.505\n",
      "46 \t32.138\n",
      "47 \t31.771\n",
      "48 \t31.404\n",
      "49 \t31.037\n",
      "50 \t31.67\n",
      "51 \t31.303\n",
      "52 \t30.936\n",
      "53 \t31.569\n",
      "54 \t31.202\n",
      "55 \t30.835\n",
      "56 \t30.468\n",
      "57 \t30.101\n",
      "58 \t29.734\n",
      "59 \t29.367\n",
      "60 \t29.0\n"
     ]
    }
   ],
   "source": [
    "# времена выхода из строя очередного сервера \n",
    "times = np.loadtxt('6_1.txt')\n",
    "\n",
    "lambda_ = times[0]\n",
    "time = 60 \n",
    "\n",
    "# N_s - количество серверов, вышедших из строя к моменту времени S\n",
    "N_s = np.zeros(61)\n",
    "\n",
    "# счетчик сломавшихся серверов\n",
    "counter = 1\n",
    "\n",
    "# заполнение N_s\n",
    "for i in range(61):\n",
    "    while times[counter] < i and counter < (times.size - 2):\n",
    "        counter = counter + 1\n",
    "    N_s[i] = counter - 1\n",
    "    \n",
    "# вывод E(N_t| N_s)\n",
    "for current_time in range(61):\n",
    "    \n",
    "    print current_time, \"\\t\", (lambda_*(time - current_time) + N_s[current_time])"
   ]
  },
  {
   "cell_type": "code",
   "execution_count": 23,
   "metadata": {
    "collapsed": false
   },
   "outputs": [
    {
     "name": "stdout",
     "output_type": "stream",
     "text": [
      "31\n"
     ]
    }
   ],
   "source": [
    "# выведем times.size, чтобы посмотреть, сколько у нас примерно должно получиться серверов\n",
    "print (times.size - 1)  # (times.size - 1), потому что в первой строке на дана лямбда"
   ]
  },
  {
   "cell_type": "markdown",
   "metadata": {},
   "source": [
    "### Мы видим, что прогноз действительно очень похож на правду "
   ]
  }
 ],
 "metadata": {
  "kernelspec": {
   "display_name": "Python 2",
   "language": "python",
   "name": "python2"
  },
  "language_info": {
   "codemirror_mode": {
    "name": "ipython",
    "version": 2
   },
   "file_extension": ".py",
   "mimetype": "text/x-python",
   "name": "python",
   "nbconvert_exporter": "python",
   "pygments_lexer": "ipython2",
   "version": "2.7.11"
  }
 },
 "nbformat": 4,
 "nbformat_minor": 0
}
