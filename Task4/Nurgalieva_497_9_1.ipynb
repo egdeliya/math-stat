{
 "cells": [
  {
   "cell_type": "code",
   "execution_count": 134,
   "metadata": {
    "collapsed": true
   },
   "outputs": [],
   "source": [
    "import matplotlib.pyplot as plt\n",
    "import numpy as np\n",
    "import scipy.stats as sps\n",
    "import math\n",
    "import csv\n",
    "import random\n",
    "%matplotlib inline"
   ]
  },
  {
   "cell_type": "code",
   "execution_count": 135,
   "metadata": {
    "collapsed": false
   },
   "outputs": [
    {
     "name": "stdout",
     "output_type": "stream",
     "text": [
      "['X', 'Y', 'month', 'day', 'FFMC', 'DMC', 'DC', 'ISI', 'temp', 'RH', 'wind', 'rain', 'area']\n"
     ]
    }
   ],
   "source": [
    "with open('forestfires.csv') as csvfile:\n",
    "    \n",
    "    # читаем файл\n",
    "    readCSV = csv.reader(csvfile, delimiter=',')\n",
    "    \n",
    "    # записываем в список\n",
    "    data = []\n",
    "    for row in readCSV:\n",
    "        data.append(row)\n",
    "print(data[0])"
   ]
  },
  {
   "cell_type": "markdown",
   "metadata": {},
   "source": [
    "### Делаем преобразования исходных данных (месяц на индикатор летнего сезона и тд)"
   ]
  },
  {
   "cell_type": "code",
   "execution_count": 136,
   "metadata": {
    "collapsed": false
   },
   "outputs": [
    {
     "name": "stdout",
     "output_type": "stream",
     "text": [
      "[['7' '5' '0' ..., '0' '0' '1']\n",
      " ['7' '5' '0' ..., '0' '0' '1']\n",
      " ['7' '4' '0' ..., '0' '0' '1']\n",
      " ..., \n",
      " ['3' '3' '0' ..., '0' '6.58' '1']\n",
      " ['1' '2' '0' ..., '0' '0' '1']\n",
      " ['7' '4' '0' ..., '0' '0' '1']]\n"
     ]
    }
   ],
   "source": [
    "data = data[1:]\n",
    "\n",
    "# меняем месяца на индикатор летноге сезона\n",
    "for i in range(0, len(data), 1):\n",
    "    if (data[i][2] == 'aug' or data[i][2] == 'jul' or data[i][2] == 'jun'):\n",
    "        data[i][2] = 1\n",
    "    else:\n",
    "        data[i][2] = 0\n",
    "    # свободный член\n",
    "    data[i].append(1)\n",
    "\n",
    "data = np.matrix(data)\n",
    "data = np.delete(data, 3, 1)\n",
    "\n",
    "# перемешиваем данные        \n",
    "random.shuffle(data)\n",
    "\n",
    "# делаем срезку\n",
    "part1 = round(7*517/10)\n",
    "regr_model_data = data[:(7*517/10)]\n",
    "\n",
    "print(data)"
   ]
  },
  {
   "cell_type": "markdown",
   "metadata": {},
   "source": [
    "### Строим регрессионную модель по первой части"
   ]
  },
  {
   "cell_type": "code",
   "execution_count": 137,
   "metadata": {
    "collapsed": false
   },
   "outputs": [],
   "source": [
    "# удаляем столбец area\n",
    "Z = np.delete(regr_model_data, 11, 1)\n",
    "Z = np.matrix(Z, dtype=float)\n",
    "\n",
    "# оставляем только area\n",
    "X = regr_model_data[:,11]\n",
    "X = np.matrix(X, dtype=float)"
   ]
  },
  {
   "cell_type": "code",
   "execution_count": 138,
   "metadata": {
    "collapsed": false
   },
   "outputs": [
    {
     "name": "stdout",
     "output_type": "stream",
     "text": [
      "[[  7.45512166e-01]\n",
      " [  1.58860839e+00]\n",
      " [ -9.02729263e+00]\n",
      " [  8.11262619e-02]\n",
      " [  1.37727165e-01]\n",
      " [ -1.34605156e-02]\n",
      " [ -4.40156508e-01]\n",
      " [  8.42800178e-01]\n",
      " [ -4.36893398e-02]\n",
      " [  1.01228019e+00]\n",
      " [ -1.08819121e+01]\n",
      " [ -2.85067651e+01]]\n"
     ]
    }
   ],
   "source": [
    "theta_ = np.linalg.inv(X.T * X)* X.T * Y\n",
    "print(theta_)"
   ]
  },
  {
   "cell_type": "markdown",
   "metadata": {},
   "source": [
    "## Применим модель к остальной части выборки и оценим дисперсию"
   ]
  },
  {
   "cell_type": "code",
   "execution_count": 162,
   "metadata": {
    "collapsed": false
   },
   "outputs": [
    {
     "name": "stdout",
     "output_type": "stream",
     "text": [
      "6.916886637642583\n"
     ]
    }
   ],
   "source": [
    "part = round(3*517/10)\n",
    "data_ = data[part:]\n",
    "\n",
    "X1 = data_[:,11]\n",
    "X1 = np.matrix(X1, dtype=float)\n",
    "\n",
    "Z1 = np.delete(data_, 11, 1)\n",
    "Z1 = np.matrix(Z1, dtype=float)\n",
    "\n",
    "sigma2 = 0\n",
    "for i in range(part):\n",
    "    sigma2 += (X1[i] - Z1[i]*theta_)**2\n",
    "sigma2 = math.sqrt(1./part*sigma2)\n",
    "print(sigma2)"
   ]
  },
  {
   "cell_type": "markdown",
   "metadata": {},
   "source": [
    "## Сделаем преобразования для area"
   ]
  },
  {
   "cell_type": "code",
   "execution_count": 169,
   "metadata": {
    "collapsed": false
   },
   "outputs": [
    {
     "name": "stdout",
     "output_type": "stream",
     "text": [
      "1 \t nan\n",
      "11 \t 0.39237908978775393\n",
      "21 \t 0.24623093362487442\n",
      "31 \t 0.18263110090482548\n",
      "41 \t 0.1459709331282109\n",
      "51 \t 0.12186608109595903\n",
      "61 \t 0.10472357917007295\n",
      "71 \t 0.09187309454591572\n",
      "81 \t 0.08186629415611506\n",
      "91 \t 0.07384537417729055\n"
     ]
    },
    {
     "name": "stderr",
     "output_type": "stream",
     "text": [
      "C:\\Program Files\\Anaconda3\\lib\\site-packages\\ipykernel\\__main__.py:2: RuntimeWarning: invalid value encountered in log\n",
      "  from ipykernel import kernelapp as app\n"
     ]
    }
   ],
   "source": [
    "for c in range(1, 101, 10):\n",
    "    X_log = np.log(X+c)\n",
    "        \n",
    "    # находим тету\n",
    "    theta_log = np.linalg.inv(Z.T * Z)* Z.T * X_log\n",
    "    \n",
    "    # применяем к оставшейся \n",
    "    X_log1 = np.log(X1+c)\n",
    "        \n",
    "    # оценим дисперсию\n",
    "    sigma2 = 0\n",
    "    for i in range(part):\n",
    "        sigma2 += (X_log1[i] - Z1[i]*theta_log)**2\n",
    "    sigma2 = math.sqrt(1./part*sigma2)\n",
    "    \n",
    "    print(c, \"\\t\", sigma2)"
   ]
  },
  {
   "cell_type": "code",
   "execution_count": null,
   "metadata": {
    "collapsed": true
   },
   "outputs": [],
   "source": []
  }
 ],
 "metadata": {
  "kernelspec": {
   "display_name": "Python 3",
   "language": "python",
   "name": "python3"
  },
  "language_info": {
   "codemirror_mode": {
    "name": "ipython",
    "version": 3
   },
   "file_extension": ".py",
   "mimetype": "text/x-python",
   "name": "python",
   "nbconvert_exporter": "python",
   "pygments_lexer": "ipython3",
   "version": "3.5.1"
  }
 },
 "nbformat": 4,
 "nbformat_minor": 0
}
