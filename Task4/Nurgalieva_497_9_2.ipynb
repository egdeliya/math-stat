{
 "cells": [
  {
   "cell_type": "code",
   "execution_count": 2,
   "metadata": {
    "collapsed": true
   },
   "outputs": [],
   "source": [
    "import matplotlib.pyplot as plt\n",
    "import numpy as np\n",
    "import scipy.stats as sps\n",
    "%matplotlib inline"
   ]
  },
  {
   "cell_type": "code",
   "execution_count": 3,
   "metadata": {
    "collapsed": true
   },
   "outputs": [],
   "source": [
    "X = np.loadtxt('497 Нургалиева Эгделия.txt')"
   ]
  },
  {
   "cell_type": "markdown",
   "metadata": {},
   "source": [
    "### Сведем задачу к линейной:\n",
    "## $Y_i = X_i - X_{i-1}$\n",
    "## $Y_0 = X_0 = \\beta_1 + \\varepsilon_0$ \n",
    "## $Y_i = \\beta_2 + \\varepsilon_i$"
   ]
  },
  {
   "cell_type": "code",
   "execution_count": 4,
   "metadata": {
    "collapsed": false
   },
   "outputs": [],
   "source": [
    "Y = []\n",
    "Y.append(X[0])\n",
    "\n",
    "for i in range(1, len(X), 1):\n",
    "    Y.append(X[i] - X[i - 1])"
   ]
  },
  {
   "cell_type": "markdown",
   "metadata": {},
   "source": [
    "### Найдем оценку для $(\\beta_1, \\beta_2) = (Y_0, \\frac{\\Sigma Y_i}{n-1})^t$ "
   ]
  },
  {
   "cell_type": "code",
   "execution_count": 5,
   "metadata": {
    "collapsed": false
   },
   "outputs": [
    {
     "name": "stdout",
     "output_type": "stream",
     "text": [
      "625.377585   8.87619493333\n"
     ]
    }
   ],
   "source": [
    "beta_1 = Y[0]\n",
    "beta_2 = (sum(Y) - Y[0])*1./(len(Y)-1)\n",
    "print(beta_1, \" \", beta_2)"
   ]
  },
  {
   "cell_type": "markdown",
   "metadata": {},
   "source": [
    "### Несмещенная оценка для $\\sigma^2 = \\frac{1}{n-1}(\\Sigma(Y_j + \\frac{\\Sigma Y_i}{n-1}))$"
   ]
  },
  {
   "cell_type": "code",
   "execution_count": 6,
   "metadata": {
    "collapsed": false
   },
   "outputs": [
    {
     "name": "stdout",
     "output_type": "stream",
     "text": [
      "17.7523898667\n"
     ]
    }
   ],
   "source": [
    "for i in range(len(Y)):\n",
    "    Y[i] = Y[i] + beta_2\n",
    "sigma2 = (sum(Y) - Y[0])*1./(len(Y)-1)\n",
    "print(sigma2)"
   ]
  },
  {
   "cell_type": "markdown",
   "metadata": {},
   "source": [
    "### Выразим оценку для дисперсии времени $\\sigma^2_t = \\frac{\\sigma^2}{\\beta_2^2}$"
   ]
  },
  {
   "cell_type": "code",
   "execution_count": 7,
   "metadata": {
    "collapsed": false
   },
   "outputs": [
    {
     "name": "stdout",
     "output_type": "stream",
     "text": [
      "0.225321775268\n"
     ]
    }
   ],
   "source": [
    "sigma2_t = sigma2 *1. / beta_2 / beta_2\n",
    "print(sigma2_t)"
   ]
  }
 ],
 "metadata": {
  "kernelspec": {
   "display_name": "Python 3",
   "language": "python",
   "name": "python3"
  },
  "language_info": {
   "codemirror_mode": {
    "name": "ipython",
    "version": 3
   },
   "file_extension": ".py",
   "mimetype": "text/x-python",
   "name": "python",
   "nbconvert_exporter": "python",
   "pygments_lexer": "ipython3",
   "version": "3.5.1"
  }
 },
 "nbformat": 4,
 "nbformat_minor": 0
}
