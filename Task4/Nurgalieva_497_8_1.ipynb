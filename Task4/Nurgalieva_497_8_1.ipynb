{
 "cells": [
  {
   "cell_type": "code",
   "execution_count": 75,
   "metadata": {
    "collapsed": true
   },
   "outputs": [],
   "source": [
    "import matplotlib.pyplot as plt\n",
    "import numpy as np\n",
    "import scipy.stats as sps\n",
    "import csv\n",
    "import random\n",
    "%matplotlib inline"
   ]
  },
  {
   "cell_type": "code",
   "execution_count": 76,
   "metadata": {
    "collapsed": false
   },
   "outputs": [
    {
     "name": "stdout",
     "output_type": "stream",
     "text": [
      "['X', 'Y', 'month', 'day', 'FFMC', 'DMC', 'DC', 'ISI', 'temp', 'RH', 'wind', 'rain', 'area']\n"
     ]
    }
   ],
   "source": [
    "with open('forestfires.csv') as csvfile:\n",
    "    \n",
    "    # читаем файл\n",
    "    readCSV = csv.reader(csvfile, delimiter=',')\n",
    "    \n",
    "    # записываем в список\n",
    "    data = []\n",
    "    for row in readCSV:\n",
    "        data.append(row)\n",
    "print(data[0])"
   ]
  },
  {
   "cell_type": "markdown",
   "metadata": {},
   "source": [
    "### Делаем преобразования исходных данных (месяц на индикатор летнего сезона и тд)"
   ]
  },
  {
   "cell_type": "code",
   "execution_count": 77,
   "metadata": {
    "collapsed": true
   },
   "outputs": [],
   "source": [
    "data = data[1:]\n",
    "data = np.matrix(data)\n",
    "\n",
    "# меняем месяца на индикатор летноге сезона\n",
    "for i in range(len(data)):\n",
    "    if (data[i].T[2] == 'aug' or data[i].T[2] == 'jul' or data[i].T[2] == 'jun'):\n",
    "        data[i].T[2] = 1\n",
    "    else:\n",
    "        data[i].T[2] = 0\n",
    "    # свободный член - 4-й столбец \n",
    "    data[i].T[3] = 1\n",
    "\n",
    "# перемешиваем данные        \n",
    "random.shuffle(data)\n",
    "\n",
    "# делаем срезку\n",
    "regr_model_data = data[:(7*517/10)]"
   ]
  },
  {
   "cell_type": "markdown",
   "metadata": {},
   "source": []
  }
 ],
 "metadata": {
  "kernelspec": {
   "display_name": "Python 3",
   "language": "python",
   "name": "python3"
  },
  "language_info": {
   "codemirror_mode": {
    "name": "ipython",
    "version": 3
   },
   "file_extension": ".py",
   "mimetype": "text/x-python",
   "name": "python",
   "nbconvert_exporter": "python",
   "pygments_lexer": "ipython3",
   "version": "3.5.1"
  }
 },
 "nbformat": 4,
 "nbformat_minor": 0
}
