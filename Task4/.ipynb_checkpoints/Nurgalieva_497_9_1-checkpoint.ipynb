{
 "cells": [
  {
   "cell_type": "code",
   "execution_count": 8,
   "metadata": {
    "collapsed": true
   },
   "outputs": [],
   "source": [
    "import matplotlib.pyplot as plt\n",
    "import numpy as np\n",
    "import scipy.stats as sps\n",
    "import csv\n",
    "import random\n",
    "%matplotlib inline"
   ]
  },
  {
   "cell_type": "code",
   "execution_count": 72,
   "metadata": {
    "collapsed": false
   },
   "outputs": [],
   "source": [
    "with open('forestfires.csv') as csvfile:\n",
    "    \n",
    "    # читаем файл\n",
    "    readCSV = csv.reader(csvfile, delimiter=',')\n",
    "    \n",
    "    # записываем в список\n",
    "    data = []\n",
    "    for row in readCSV:\n",
    "        data.append(row)"
   ]
  },
  {
   "cell_type": "code",
   "execution_count": 73,
   "metadata": {
    "collapsed": false
   },
   "outputs": [
    {
     "name": "stdout",
     "output_type": "stream",
     "text": [
      "517\n",
      "[['7' '5' '0' ..., '6.7' '0' '0']\n",
      " ['7' '4' '0' ..., '0.9' '0' '0']\n",
      " ['7' '4' '0' ..., '1.3' '0' '0']\n",
      " ..., \n",
      " ['7' '4' '1' ..., '6.7' '0' '11.16']\n",
      " ['1' '4' '1' ..., '4' '0' '0']\n",
      " ['6' '3' '0' ..., '4.5' '0' '0']]\n",
      "[['7' '5' '0' ..., '6.7' '0' '0']\n",
      " ['7' '5' '0' ..., '6.7' '0' '0']\n",
      " ['7' '4' '0' ..., '1.3' '0' '0']\n",
      " ..., \n",
      " ['3' '4' '1' ..., '5.4' '0' '0']\n",
      " ['8' '6' '1' ..., '4.9' '0' '0']\n",
      " ['2' '4' '1' ..., '3.1' '0' '4.25']]\n"
     ]
    }
   ],
   "source": [
    "data = data[1:]\n",
    "data = np.matrix(data)\n",
    "\n",
    "# меняем месяца на индикатор летноге сезона\n",
    "for i in range(len(data)):\n",
    "    if (data[i].T[2] == 'aug' or data[i].T[2] == 'jul' or data[i].T[2] == 'jun'):\n",
    "        data[i].T[2] = 1\n",
    "    else:\n",
    "        data[i].T[2] = 0\n",
    "\n",
    "# перемешиваем данные        \n",
    "random.shuffle(data)\n",
    "\n",
    "# делаем срезку\n",
    "regr_model_data = data[:(7*517/10)]"
   ]
  },
  {
   "cell_type": "markdown",
   "metadata": {},
   "source": [
    "### Делаем преобразования исходных данных (месяц на индикатор летнего сезона и тд)"
   ]
  },
  {
   "cell_type": "code",
   "execution_count": null,
   "metadata": {
    "collapsed": true
   },
   "outputs": [],
   "source": []
  }
 ],
 "metadata": {
  "kernelspec": {
   "display_name": "Python 3",
   "language": "python",
   "name": "python3"
  },
  "language_info": {
   "codemirror_mode": {
    "name": "ipython",
    "version": 3
   },
   "file_extension": ".py",
   "mimetype": "text/x-python",
   "name": "python",
   "nbconvert_exporter": "python",
   "pygments_lexer": "ipython3",
   "version": "3.5.1"
  }
 },
 "nbformat": 4,
 "nbformat_minor": 0
}
