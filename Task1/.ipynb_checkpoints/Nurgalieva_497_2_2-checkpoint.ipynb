{
 "cells": [
  {
   "cell_type": "code",
   "execution_count": 5,
   "metadata": {
    "collapsed": false
   },
   "outputs": [],
   "source": [
    "import numpy as np\n",
    "import scipy.stats as sps\n",
    "\n",
    "my_cauchy_sample = np.loadtxt('Cauchy.txt')\n",
    "sample_size = len(my_cauchy_sample)"
   ]
  },
  {
   "cell_type": "code",
   "execution_count": 23,
   "metadata": {
    "collapsed": false
   },
   "outputs": [
    {
     "name": "stdout",
     "output_type": "stream",
     "text": [
      "Значение х0 при оценке по половине выборки: -392.796963985\n",
      "Значение х0 при оценке по всей выборке: -392.756963785\n"
     ]
    },
    {
     "name": "stderr",
     "output_type": "stream",
     "text": [
      "/opt/anaconda3/lib/python3.5/site-packages/ipykernel/__main__.py:7: DeprecationWarning: using a non-integer number instead of an integer will result in an error in the future\n"
     ]
    }
   ],
   "source": [
    "#оценим параметр сдвига(x0) методом максимального правдоподобия\n",
    "theta = 1\n",
    "\n",
    "x_values = np.linspace(-1000, 1000, 2000 / 0.01)\n",
    "flag = 1\n",
    "\n",
    "for arr in (my_cauchy_sample[: sample_size / 2], my_cauchy_sample):\n",
    "    #точка максимума логарифма функции правдоподобия\n",
    "    max_ = -1000\n",
    "\n",
    "    #максимум логарифма функции правдоподобия\n",
    "    max_value = -np.inf\n",
    "    \n",
    "    for x in x_values:\n",
    "        cauchy_x_distr = sps.cauchy(x, theta)\n",
    "\n",
    "        #логарифм функции правдоподобия\n",
    "        value = cauchy_x_distr.logpdf(arr)\n",
    "        local_max  = sum(value)\n",
    "\n",
    "        if (local_max > max_value):\n",
    "            max_value = local_max \n",
    "            max_ = x\n",
    "    \n",
    "    if (flag == 2):\n",
    "        print('Значение х0 при оценке по всей выборке:', max_)\n",
    "    \n",
    "    if (flag == 1):\n",
    "        print('Значение х0 при оценке по половине выборки:', max_)\n",
    "        flag = 2"
   ]
  },
  {
   "cell_type": "code",
   "execution_count": 24,
   "metadata": {
    "collapsed": true
   },
   "outputs": [],
   "source": [
    "my_weibull_sample = np.loadtxt('Weibull.txt')\n",
    "sample_size = len(my_weibull_sample)"
   ]
  },
  {
   "cell_type": "code",
   "execution_count": 31,
   "metadata": {
    "collapsed": false
   },
   "outputs": [
    {
     "name": "stdout",
     "output_type": "stream",
     "text": [
      "Значение х0 при оценке по выборке за 4 года: -2\n",
      "Значение х0 при оценке по всей выборке: -2\n"
     ]
    },
    {
     "name": "stderr",
     "output_type": "stream",
     "text": [
      "/opt/anaconda3/lib/python3.5/site-packages/ipykernel/__main__.py:4: DeprecationWarning: using a non-integer number instead of an integer will result in an error in the future\n"
     ]
    }
   ],
   "source": [
    "x_values = np.linspace(-2, 2, 4 / 0.001)\n",
    "\n",
    "flag = 1\n",
    "for arr in (my_weibull_sample[: sample_size * 2.5], my_weibull_sample):\n",
    "    #точка максимума логарифма функции правдоподобия\n",
    "    max_ = -2\n",
    "\n",
    "    #максимум логарифма функции правдоподобия\n",
    "    max_value = -2\n",
    "    \n",
    "    for x in x_values:\n",
    "        weibull_x_distr = sps.weibull_max(x)\n",
    "\n",
    "        #логарифм функции правдоподобия\n",
    "        value = weibull_x_distr.logpdf(arr)\n",
    "        local_max  = sum(value)\n",
    "\n",
    "        if (local_max > max_value):\n",
    "            max_value = local_max \n",
    "            max_ = x\n",
    "    \n",
    "    if (flag == 2):\n",
    "        print('Значение х0 при оценке по всей выборке:', max_)\n",
    "    \n",
    "    if (flag == 1):\n",
    "        print('Значение х0 при оценке по выборке за 4 года:', max_)\n",
    "        flag = 2"
   ]
  },
  {
   "cell_type": "code",
   "execution_count": null,
   "metadata": {
    "collapsed": true
   },
   "outputs": [],
   "source": []
  }
 ],
 "metadata": {
  "kernelspec": {
   "display_name": "Python 2",
   "language": "python",
   "name": "python2"
  },
  "language_info": {
   "codemirror_mode": {
    "name": "ipython",
    "version": 2
   },
   "file_extension": ".py",
   "mimetype": "text/x-python",
   "name": "python",
   "nbconvert_exporter": "python",
   "pygments_lexer": "ipython2",
   "version": "2.7.11"
  }
 },
 "nbformat": 4,
 "nbformat_minor": 0
}
