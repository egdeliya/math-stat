{
 "cells": [
  {
   "cell_type": "code",
   "execution_count": 1,
   "metadata": {
    "collapsed": true
   },
   "outputs": [],
   "source": [
    "import scipy.stats as sps\n",
    "import matplotlib.pyplot as plt\n",
    "import numpy as np\n",
    "%matplotlib inline"
   ]
  },
  {
   "cell_type": "code",
   "execution_count": 3,
   "metadata": {
    "collapsed": false
   },
   "outputs": [
    {
     "data": {
      "text/plain": [
       "array([[ 0.158445  , -0.16519735,  0.64942105, ...,  0.96362463,\n",
       "         0.99264012, -0.93140322],\n",
       "       [-1.23170892, -0.10590844, -1.51815971, ..., -0.2509953 ,\n",
       "        -0.50074823,  0.48990699],\n",
       "       [-0.30670934,  0.63384611, -0.39926901, ...,  0.12659599,\n",
       "        -1.95240386,  0.5027434 ],\n",
       "       ..., \n",
       "       [ 0.92765016, -0.43730917, -0.19545775, ...,  0.38259816,\n",
       "         0.89972944,  0.03853126],\n",
       "       [-0.87538488,  0.55664407, -0.88200467, ..., -0.29960565,\n",
       "         1.6933484 ,  0.86367237],\n",
       "       [ 0.47021249,  0.8603056 , -2.42578169, ..., -1.23020704,\n",
       "        -1.58058635,  0.66139144]])"
      ]
     },
     "execution_count": 3,
     "metadata": {},
     "output_type": "execute_result"
    }
   ],
   "source": [
    "N = 1000\n",
    "K = 10000\n",
    "theta = 0\n",
    "X = np.array(sps.norm.rvs(size=N*K, loc=0, scale=1))\n",
    "X.reshape(N, K)"
   ]
  },
  {
   "cell_type": "code",
   "execution_count": null,
   "metadata": {
    "collapsed": true
   },
   "outputs": [],
   "source": [
    "for i in range(N):\n",
    "    theta_likelyhood = []\n",
    "    theta_hat = []\n",
    "    \n",
    "    # ищем точку максимума логарифма функции правдоподобия\n",
    "    # оценка матожидания - это X-среднее\n",
    "    theta_likelyhood = [for j in range]"
   ]
  }
 ],
 "metadata": {
  "kernelspec": {
   "display_name": "Python 3",
   "language": "python",
   "name": "python3"
  },
  "language_info": {
   "codemirror_mode": {
    "name": "ipython",
    "version": 3
   },
   "file_extension": ".py",
   "mimetype": "text/x-python",
   "name": "python",
   "nbconvert_exporter": "python",
   "pygments_lexer": "ipython3",
   "version": "3.5.1"
  }
 },
 "nbformat": 4,
 "nbformat_minor": 0
}
