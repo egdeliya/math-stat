{
 "cells": [
  {
   "cell_type": "code",
   "execution_count": 1,
   "metadata": {
    "collapsed": true
   },
   "outputs": [],
   "source": [
    "import matplotlib.pyplot as plt\n",
    "import numpy as np\n",
    "import scipy.stats as sps\n",
    "import math\n",
    "import csv\n",
    "%matplotlib inline"
   ]
  },
  {
   "cell_type": "code",
   "execution_count": 2,
   "metadata": {
    "collapsed": false
   },
   "outputs": [
    {
     "name": "stdout",
     "output_type": "stream",
     "text": [
      "['-5.466446996780023326e+00', '1.000000000000000000e+00', '7.942325572326950578e+00', '1.793863535584802049e+00', '9.938451780001654468e-03']\n"
     ]
    }
   ],
   "source": [
    "with open('0.csv') as csvfile:\n",
    "    \n",
    "    # читаем файл\n",
    "    readCSV = csv.reader(csvfile, delimiter=',')\n",
    "    \n",
    "    # записываем в список\n",
    "    data = []\n",
    "    for row in readCSV:\n",
    "        data.append(row)\n",
    "print(data[0])\n",
    "data = np.matrix(data)"
   ]
  },
  {
   "cell_type": "code",
   "execution_count": 3,
   "metadata": {
    "collapsed": false
   },
   "outputs": [
    {
     "name": "stdout",
     "output_type": "stream",
     "text": [
      "1000\n"
     ]
    }
   ],
   "source": [
    "# удаляем посдледний столбец\n",
    "X = np.delete(data, 0, 1)\n",
    "X = np.matrix(X, dtype=float)\n",
    "\n",
    "Y = data[:,0]\n",
    "Y = np.matrix(Y, dtype=float)\n",
    "print(len(Y))"
   ]
  },
  {
   "cell_type": "code",
   "execution_count": 11,
   "metadata": {
    "collapsed": false
   },
   "outputs": [
    {
     "name": "stdout",
     "output_type": "stream",
     "text": [
      "[[ -3.13824909e+02]\n",
      " [ -1.68185719e+00]\n",
      " [  3.68421193e+00]\n",
      " [  3.16912012e+04]]\n",
      "det:  0.68069865302\n"
     ]
    }
   ],
   "source": [
    "# посчитаем оценку theta\n",
    "theta_square = np.linalg.inv(X.T * X)* X.T * Y\n",
    "print(theta_square)\n",
    "\n",
    "det = np.linalg.det(X.T * X)\n",
    "print(\"det: \", det)\n",
    "\n",
    "matr_size = len((X.T * X)[:,0])\n",
    "vec_size = len(Y)"
   ]
  },
  {
   "cell_type": "markdown",
   "metadata": {},
   "source": [
    "### Вывод: "
   ]
  },
  {
   "cell_type": "code",
   "execution_count": null,
   "metadata": {
    "collapsed": false
   },
   "outputs": [],
   "source": [
    "id_ = np.identity(matr_size, dtype=float)\n",
    "range_ = np.arange(0, 100, 0.1)\n",
    "\n",
    "theta_hat = []\n",
    "#for i in range(1):\n",
    "#   ch_X = np.delete(X, i, axis=0)\n",
    "#  ch_Y = np.delete(Y, i, axis=0)\n",
    "    #theta_hat.append([np.linalg.inv(ch_X.T * ch_X + lambda_*id_)*ch_X.T*ch_Y \n",
    "     #                 for lambda_ in range_])\n",
    "        \n",
    "theta_hat = np.array([np.linalg.inv(np.delete(X, i, axis=0).T * np.delete(X, i, axis=0) + \n",
    "                                    lambda_*id_)*np.delete(X, i, axis=0).T*np.delete(Y, i, axis=0) \n",
    "                      for lambda_ in range_\n",
    "                     for i in range(vec_size)])\n",
    "print(theta_hat)"
   ]
  },
  {
   "cell_type": "code",
   "execution_count": null,
   "metadata": {
    "collapsed": true
   },
   "outputs": [],
   "source": [
    "# посчитаем оценку дисперсии\n"
   ]
  }
 ],
 "metadata": {
  "kernelspec": {
   "display_name": "Python 3",
   "language": "python",
   "name": "python3"
  },
  "language_info": {
   "codemirror_mode": {
    "name": "ipython",
    "version": 3
   },
   "file_extension": ".py",
   "mimetype": "text/x-python",
   "name": "python",
   "nbconvert_exporter": "python",
   "pygments_lexer": "ipython3",
   "version": "3.5.1"
  }
 },
 "nbformat": 4,
 "nbformat_minor": 0
}
